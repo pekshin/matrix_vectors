{
 "cells": [
  {
   "cell_type": "code",
   "execution_count": 55,
   "metadata": {},
   "outputs": [],
   "source": [
    "import pandas as pd\n",
    "import numpy as np\n",
    "m = 4 # так как это просто количество каналов\n",
    "\n",
    "p = 120\n",
    "t = np.array ([1,2,3,4])\n",
    "# t =  \n",
    "# print (t)\n",
    "x_t_i = np.array ([1,2,3,4])\n",
    "# x_t_i = x_t_i.reshape (m,1)\n",
    "# print (x_t_i)\n",
    "c = np.array ([1,2,5,4])\n",
    "\n",
    "n = np.diag(np.array ([52,2,4,34]))\n",
    "# print (np.diag (n)) #создаём диагональную матрицу\n",
    "step = np.diag(np.array([1,2,3,4]))\n",
    "# print (step)"
   ]
  },
  {
   "cell_type": "markdown",
   "metadata": {},
   "source": [
    "Сначала задаём все переменные - вектора, которые будут использоваться в программе.\n",
    "Теперь рассчитаем заданные характеристики. (на основе первоначальных данных)"
   ]
  },
  {
   "cell_type": "code",
   "execution_count": 59,
   "metadata": {},
   "outputs": [
    {
     "name": "stdout",
     "output_type": "stream",
     "text": [
      "(array([76800000]), ' ', array([664]))\n",
      "115662\n",
      "[120 120  72 120]\n"
     ]
    }
   ],
   "source": [
    "# t_0 = np.array ([1,2,3,4])\n",
    "r_0 = p*1000*np.dot(np.dot(x_t_i,n),t.reshape (m,1)) # транспонируем вектор\n",
    "b_0 = np.dot(np.dot(c,n),t.reshape(m,1))\n",
    "print (r_0, ' ',b_0)\n",
    "roi_0 = int(r_0)/int(b_0)\n",
    "print (roi_0)\n",
    "roi_0m = p*np.dot(x_t_i,n)/np.dot(c,n) #вектор получаем roi\n",
    "print (roi_0m)\n",
    "ostatok = 0"
   ]
  },
  {
   "cell_type": "markdown",
   "metadata": {},
   "source": []
  }
 ],
 "metadata": {
  "kernelspec": {
   "display_name": "Python 2",
   "language": "python",
   "name": "python2"
  },
  "language_info": {
   "codemirror_mode": {
    "name": "ipython",
    "version": 2
   },
   "file_extension": ".py",
   "mimetype": "text/x-python",
   "name": "python",
   "nbconvert_exporter": "python",
   "pygments_lexer": "ipython2",
   "version": "2.7.14"
  }
 },
 "nbformat": 4,
 "nbformat_minor": 2
}
